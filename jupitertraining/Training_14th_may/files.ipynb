{
 "cells": [
  {
   "cell_type": "code",
   "execution_count": 2,
   "metadata": {},
   "outputs": [
    {
     "name": "stdout",
     "output_type": "stream",
     "text": [
      "This is first line\n",
      "This is second line\n",
      "This is third line\n",
      "This is fourth line\n"
     ]
    }
   ],
   "source": [
    "fd = open(\"abc.txt\")\n",
    "data = fd.read()\n",
    "print(data)\n",
    "fd.close()"
   ]
  },
  {
   "cell_type": "code",
   "execution_count": 4,
   "metadata": {},
   "outputs": [
    {
     "name": "stdout",
     "output_type": "stream",
     "text": [
      "This is fi\n"
     ]
    }
   ],
   "source": [
    "fd = open(\"abc.txt\")\n",
    "data = fd.read(10)\n",
    "print(data)\n",
    "fd.close()"
   ]
  },
  {
   "cell_type": "code",
   "execution_count": 5,
   "metadata": {},
   "outputs": [
    {
     "name": "stdout",
     "output_type": "stream",
     "text": [
      "This is first line\n",
      "\n"
     ]
    }
   ],
   "source": [
    "fd = open(\"abc.txt\")\n",
    "data = fd.readline()\n",
    "print(data)\n",
    "fd.close()"
   ]
  },
  {
   "cell_type": "code",
   "execution_count": 7,
   "metadata": {},
   "outputs": [
    {
     "name": "stdout",
     "output_type": "stream",
     "text": [
      "['This is first line\\n', 'This is second line\\n', 'This is third line\\n', 'This is fourth line']\n",
      "This is first line\n",
      "\n",
      "This is second line\n",
      "\n",
      "This is third line\n",
      "\n",
      "This is fourth line\n"
     ]
    }
   ],
   "source": [
    "fd = open(\"abc.txt\")\n",
    "data = fd.readlines()\n",
    "print(data)\n",
    "for line in data:\n",
    "    print(line)\n",
    "fd.close()"
   ]
  },
  {
   "cell_type": "code",
   "execution_count": 36,
   "metadata": {},
   "outputs": [
    {
     "name": "stdout",
     "output_type": "stream",
     "text": [
      "This is first line\n",
      "\n"
     ]
    }
   ],
   "source": [
    "fd = open(\"abc.txt\")\n",
    "data = fd.readline(25)\n",
    "print(data)\n",
    "fd.close()"
   ]
  },
  {
   "cell_type": "markdown",
   "metadata": {},
   "source": [
    "fd=open(\"abc.txt\")  \n",
    "data=fd.read(10)  \n",
    "data1=fd.readline(10)  \n",
    "print(data)  \n",
    "print(data1)  \n",
    "fd.close()"
   ]
  },
  {
   "cell_type": "code",
   "execution_count": 37,
   "metadata": {},
   "outputs": [
    {
     "ename": "SyntaxError",
     "evalue": "invalid syntax (<ipython-input-37-31afdc0dc4e4>, line 1)",
     "output_type": "error",
     "traceback": [
      "\u001b[0;36m  File \u001b[0;32m\"<ipython-input-37-31afdc0dc4e4>\"\u001b[0;36m, line \u001b[0;32m1\u001b[0m\n\u001b[0;31m    File modes\u001b[0m\n\u001b[0m             ^\u001b[0m\n\u001b[0;31mSyntaxError\u001b[0m\u001b[0;31m:\u001b[0m invalid syntax\n"
     ]
    }
   ],
   "source": [
    "File modes\n",
    "r read\n",
    "w write\n",
    "a append\n",
    "\n",
    "r+b\n",
    "w+b\n",
    "a+b\n"
   ]
  },
  {
   "cell_type": "code",
   "execution_count": 43,
   "metadata": {},
   "outputs": [],
   "source": [
    "fd = open(\"new_file\", 'w+b')\n",
    "data = b\"This file opened in write mode\"\n",
    "fd.write(data)\n",
    "fd.close()"
   ]
  },
  {
   "cell_type": "code",
   "execution_count": 44,
   "metadata": {},
   "outputs": [],
   "source": [
    "fd = open(\"new_file.txt\", 'a+b')\n",
    "data = [b\"This file opened in write mode\\n\", b\"This is another data\"]\n",
    "fd.writelines(data)\n",
    "fd.close()"
   ]
  },
  {
   "cell_type": "code",
   "execution_count": 47,
   "metadata": {},
   "outputs": [
    {
     "name": "stdout",
     "output_type": "stream",
     "text": [
      "b'This is string'\n"
     ]
    }
   ],
   "source": [
    "mystr = b\"This is string\"\n",
    "print(mystr)"
   ]
  },
  {
   "cell_type": "code",
   "execution_count": 64,
   "metadata": {},
   "outputs": [
    {
     "name": "stdout",
     "output_type": "stream",
     "text": [
      "81\n",
      "81\n",
      "91\n",
      "b''\n",
      "91\n"
     ]
    }
   ],
   "source": [
    "with open(\"new_file\" , \"r+b\") as fd:\n",
    "    dat = fd.read()\n",
    "    print(fd.tell())\n",
    "    print(len(dat))\n",
    "    fd.seek(10, 2)\n",
    "    print(fd.tell())\n",
    "    ch = fd.read(10)\n",
    "    print(ch)\n",
    "    print(fd.tell())"
   ]
  },
  {
   "cell_type": "code",
   "execution_count": 66,
   "metadata": {},
   "outputs": [
    {
     "name": "stdout",
     "output_type": "stream",
     "text": [
      "b'This file '\n",
      "b'write modeThis file opened in write mode\\nThis is another data'\n"
     ]
    }
   ],
   "source": [
    "with open(\"new_file\" , \"r+b\") as fd:\n",
    "    data = fd.read(10)\n",
    "    fd.seek(10, 1)\n",
    "    data1 = fd.read()\n",
    "    print(data)\n",
    "    print(data1)\n",
    "    dir(fd)"
   ]
  },
  {
   "cell_type": "code",
   "execution_count": 67,
   "metadata": {},
   "outputs": [
    {
     "data": {
      "text/plain": [
       "['_CHUNK_SIZE',\n",
       " '__class__',\n",
       " '__del__',\n",
       " '__delattr__',\n",
       " '__dict__',\n",
       " '__dir__',\n",
       " '__doc__',\n",
       " '__enter__',\n",
       " '__eq__',\n",
       " '__exit__',\n",
       " '__format__',\n",
       " '__ge__',\n",
       " '__getattribute__',\n",
       " '__getstate__',\n",
       " '__gt__',\n",
       " '__hash__',\n",
       " '__init__',\n",
       " '__init_subclass__',\n",
       " '__iter__',\n",
       " '__le__',\n",
       " '__lt__',\n",
       " '__ne__',\n",
       " '__new__',\n",
       " '__next__',\n",
       " '__reduce__',\n",
       " '__reduce_ex__',\n",
       " '__repr__',\n",
       " '__setattr__',\n",
       " '__sizeof__',\n",
       " '__str__',\n",
       " '__subclasshook__',\n",
       " '_checkClosed',\n",
       " '_checkReadable',\n",
       " '_checkSeekable',\n",
       " '_checkWritable',\n",
       " '_finalizing',\n",
       " 'buffer',\n",
       " 'close',\n",
       " 'closed',\n",
       " 'detach',\n",
       " 'encoding',\n",
       " 'errors',\n",
       " 'fileno',\n",
       " 'flush',\n",
       " 'isatty',\n",
       " 'line_buffering',\n",
       " 'mode',\n",
       " 'name',\n",
       " 'newlines',\n",
       " 'read',\n",
       " 'readable',\n",
       " 'readline',\n",
       " 'readlines',\n",
       " 'seek',\n",
       " 'seekable',\n",
       " 'tell',\n",
       " 'truncate',\n",
       " 'writable',\n",
       " 'write',\n",
       " 'writelines']"
      ]
     },
     "execution_count": 67,
     "metadata": {},
     "output_type": "execute_result"
    }
   ],
   "source": [
    "fd = open(\"new_file\")\n",
    "dir(fd)"
   ]
  },
  {
   "cell_type": "code",
   "execution_count": 68,
   "metadata": {},
   "outputs": [
    {
     "name": "stdout",
     "output_type": "stream",
     "text": [
      "Help on built-in function write:\n",
      "\n",
      "write(text, /) method of _io.TextIOWrapper instance\n",
      "    Write string to stream.\n",
      "    Returns the number of characters written (which is always equal to\n",
      "    the length of the string).\n",
      "\n"
     ]
    }
   ],
   "source": [
    "help(fd.write)"
   ]
  },
  {
   "cell_type": "code",
   "execution_count": 69,
   "metadata": {},
   "outputs": [
    {
     "ename": "IndentationError",
     "evalue": "expected an indented block (<ipython-input-69-d59443bde4f2>, line 4)",
     "output_type": "error",
     "traceback": [
      "\u001b[0;36m  File \u001b[0;32m\"<ipython-input-69-d59443bde4f2>\"\u001b[0;36m, line \u001b[0;32m4\u001b[0m\n\u001b[0;31m    wordslist = line.split()\u001b[0m\n\u001b[0m            ^\u001b[0m\n\u001b[0;31mIndentationError\u001b[0m\u001b[0;31m:\u001b[0m expected an indented block\n"
     ]
    }
   ],
   "source": [
    "infile = open(\"abc.txt\", 'r')  \n",
    "words = 0  \n",
    "for line in infile:  \n",
    "wordslist = line.split()  \n",
    "words = words + len(wordslist)  \n",
    "print(words)"
   ]
  },
  {
   "cell_type": "code",
   "execution_count": 73,
   "metadata": {},
   "outputs": [
    {
     "name": "stdout",
     "output_type": "stream",
     "text": [
      "{'This': 4, 'is': 4, 'first': 1, 'line': 4, 'second': 1, 'third': 1, 'fourth': 1}\n"
     ]
    }
   ],
   "source": [
    "with open(\"abc.txt\") as fd:\n",
    "    data = fd.read()\n",
    "    words = data.split()\n",
    "    word_freq = {}\n",
    "    for word in words:\n",
    "        if word not in word_freq.keys():\n",
    "            word_freq[word] = words.count(word)\n",
    "    print(word_freq)"
   ]
  },
  {
   "cell_type": "code",
   "execution_count": 75,
   "metadata": {},
   "outputs": [
    {
     "name": "stdout",
     "output_type": "stream",
     "text": [
      "{'fourth', 'This', 'first', 'line', 'third', 'second', 'is'}\n",
      "fourth 1\n",
      "This 4\n",
      "first 1\n",
      "line 4\n",
      "third 1\n",
      "second 1\n",
      "is 4\n"
     ]
    }
   ],
   "source": [
    "with open(\"abc.txt\",\"r\") as fd:  \n",
    "    data=fd.read().split()   \n",
    "    set1=set(data)    \n",
    "    for i in set1 :  \n",
    "        print(i,data.count(i))  "
   ]
  },
  {
   "cell_type": "code",
   "execution_count": 81,
   "metadata": {},
   "outputs": [],
   "source": [
    "lst1 = [4,5,3,2,1,2,1,3,4,6]\n",
    "lst2 = [4,3,5,6,7,1,1,2,2,3]\n",
    "lst3 = [2,1,3,1,2,3,2,3,4,5]"
   ]
  },
  {
   "cell_type": "code",
   "execution_count": 83,
   "metadata": {},
   "outputs": [],
   "source": [
    "lst1.sort()\n",
    "lst2.sort()\n",
    "lst3.sort()"
   ]
  },
  {
   "cell_type": "code",
   "execution_count": 85,
   "metadata": {},
   "outputs": [
    {
     "name": "stdout",
     "output_type": "stream",
     "text": [
      "[1, 1, 2, 2, 3, 3, 4, 4, 5, 6]\n",
      "[1, 1, 2, 2, 3, 3, 4, 5, 6, 7]\n"
     ]
    },
    {
     "data": {
      "text/plain": [
       "[1, 1, 2, 2, 2, 3, 3, 3, 4, 5]"
      ]
     },
     "execution_count": 85,
     "metadata": {},
     "output_type": "execute_result"
    }
   ],
   "source": [
    "print(lst1)\n",
    "print(lst2)\n",
    "lst3"
   ]
  },
  {
   "cell_type": "code",
   "execution_count": 97,
   "metadata": {},
   "outputs": [
    {
     "name": "stdout",
     "output_type": "stream",
     "text": [
      "0\n",
      "2\n",
      "4\n",
      "6\n",
      "8\n"
     ]
    },
    {
     "data": {
      "text/plain": [
       "[1,\n",
       " 1,\n",
       " 1,\n",
       " 1,\n",
       " 1,\n",
       " 1,\n",
       " 2,\n",
       " 2,\n",
       " 2,\n",
       " 2,\n",
       " 2,\n",
       " 2,\n",
       " 2,\n",
       " 3,\n",
       " 3,\n",
       " 3,\n",
       " 3,\n",
       " 3,\n",
       " 3,\n",
       " 3,\n",
       " 4,\n",
       " 4,\n",
       " 4,\n",
       " 4,\n",
       " 5,\n",
       " 5,\n",
       " 5,\n",
       " 6,\n",
       " 6,\n",
       " 7]"
      ]
     },
     "execution_count": 97,
     "metadata": {},
     "output_type": "execute_result"
    }
   ],
   "source": [
    "out = []\n",
    "i, j, k = 0,0,0\n",
    "while i < len(lst1) and j < len(lst2) and k < len(lst3):\n",
    "    print(i)\n",
    "    if lst1[i]  <= lst2[j] and lst1[i] <= lst3[k]:\n",
    "        x = lst1.count(lst1[i])\n",
    "        for _ in range(x):\n",
    "            out.append(lst1[i])\n",
    "            i += 1\n",
    "        \n",
    "    if lst2[j]  <= lst1[i] and lst2[j] <= lst3[k]:\n",
    "        y = lst2.count(lst2[j])\n",
    "        for _ in range(y):\n",
    "            out.append(lst2[j])\n",
    "            j += 1\n",
    "            \n",
    "    if lst3[k]  <= lst1[i] and lst3[k] <= lst2[j]:\n",
    "        z = lst3.count(lst3[k])\n",
    "        for _ in range(z):\n",
    "            out.append(lst3[k])\n",
    "            k += 1\n",
    "while i < len(lst1):\n",
    "    out.append(lst1[i])\n",
    "    i += 1\n",
    "    \n",
    "while j < len(lst2):\n",
    "    out.append(lst2[j])\n",
    "    j += 1\n",
    "    \n",
    "while k < len(lst3):\n",
    "    out.append(lst3[k])\n",
    "    k += 1\n",
    "\n",
    "out"
   ]
  },
  {
   "cell_type": "raw",
   "metadata": {},
   "source": [
    "ljadlhaslhjlsd"
   ]
  },
  {
   "cell_type": "code",
   "execution_count": null,
   "metadata": {},
   "outputs": [],
   "source": []
  }
 ],
 "metadata": {
  "kernelspec": {
   "display_name": "Python 3",
   "language": "python",
   "name": "python3"
  },
  "language_info": {
   "codemirror_mode": {
    "name": "ipython",
    "version": 3
   },
   "file_extension": ".py",
   "mimetype": "text/x-python",
   "name": "python",
   "nbconvert_exporter": "python",
   "pygments_lexer": "ipython3",
   "version": "3.7.6"
  }
 },
 "nbformat": 4,
 "nbformat_minor": 4
}
