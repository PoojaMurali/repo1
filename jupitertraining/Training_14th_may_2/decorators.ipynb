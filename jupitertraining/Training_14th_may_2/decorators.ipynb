{
 "cells": [
  {
   "cell_type": "code",
   "execution_count": 1,
   "metadata": {},
   "outputs": [
    {
     "ename": "SyntaxError",
     "evalue": "invalid syntax (<ipython-input-1-167a7a089306>, line 1)",
     "output_type": "error",
     "traceback": [
      "\u001b[0;36m  File \u001b[0;32m\"<ipython-input-1-167a7a089306>\"\u001b[0;36m, line \u001b[0;32m1\u001b[0m\n\u001b[0;31m    1. How to assign function to variable\u001b[0m\n\u001b[0m         ^\u001b[0m\n\u001b[0;31mSyntaxError\u001b[0m\u001b[0;31m:\u001b[0m invalid syntax\n"
     ]
    }
   ],
   "source": [
    "1. How to assign function to variable\n",
    "2. How to pass function as parameter in function\n",
    "3. how to retun function from function\n",
    "4. nested functions"
   ]
  },
  {
   "cell_type": "code",
   "execution_count": 34,
   "metadata": {},
   "outputs": [],
   "source": [
    "def welcome():\n",
    "    print(\"Welcome to my function\")\n",
    "    \n",
    "    return 10 + 20"
   ]
  },
  {
   "cell_type": "code",
   "execution_count": 35,
   "metadata": {},
   "outputs": [
    {
     "name": "stdout",
     "output_type": "stream",
     "text": [
      "Welcome to my function\n"
     ]
    }
   ],
   "source": [
    "x = welcome\n",
    "return_val = x()"
   ]
  },
  {
   "cell_type": "code",
   "execution_count": 36,
   "metadata": {},
   "outputs": [
    {
     "data": {
      "text/plain": [
       "30"
      ]
     },
     "execution_count": 36,
     "metadata": {},
     "output_type": "execute_result"
    }
   ],
   "source": [
    "return_val"
   ]
  },
  {
   "cell_type": "code",
   "execution_count": 37,
   "metadata": {},
   "outputs": [],
   "source": [
    "def welcome(func_address):\n",
    "    print(\"Welcome to my function\")\n",
    "    func_address()\n",
    "    #hello()\n",
    "    return True\n",
    "\n",
    "    \n",
    "\n",
    "#welcome(hello)"
   ]
  },
  {
   "cell_type": "code",
   "execution_count": 41,
   "metadata": {},
   "outputs": [
    {
     "name": "stdout",
     "output_type": "stream",
     "text": [
      "Before nested function\n",
      "After nested function\n"
     ]
    }
   ],
   "source": [
    "def greeting():\n",
    "    print(\"Before nested function\")\n",
    "    def hello1():\n",
    "        print(\"Hello from nested function of greeting\")\n",
    "        \n",
    "    print(\"After nested function\")\n",
    "    \n",
    "    return hello1\n",
    "    \n",
    "x = greeting()\n"
   ]
  },
  {
   "cell_type": "code",
   "execution_count": 42,
   "metadata": {},
   "outputs": [
    {
     "name": "stdout",
     "output_type": "stream",
     "text": [
      "Hello from nested function of greeting\n"
     ]
    }
   ],
   "source": [
    "x()"
   ]
  },
  {
   "cell_type": "code",
   "execution_count": 55,
   "metadata": {},
   "outputs": [
    {
     "name": "stdout",
     "output_type": "stream",
     "text": [
      "() {'name': 'Rajendra', 'age': 29}\n",
      "I am wrapper function\n",
      "My name is Rajendra and my age is 29\n",
      "After calling function\n",
      "40\n"
     ]
    }
   ],
   "source": [
    "@decorator_func    #2   #5 #14 \n",
    "def display(name, age): #9\n",
    "    print(\"My name is {} and my age is {}\".format(name, age)) #10\n",
    "    return 10 + 30   #11\n",
    "\n",
    "def decorator_func(func): #3\n",
    "    def wrapper(*args, **kwrgs): #6\n",
    "        print(args, kwrgs)\n",
    "        print(\"I am wrapper function\") #7\n",
    "        ret = func(*args, **kwrgs) #8\n",
    "        print(\"After calling function\")  #12\n",
    "        return ret   #13\n",
    "    return wrapper #4\n",
    "\n",
    "x = display(name=\"Rajendra\", age=29) #1   #15\n",
    "print(x) #16\n",
    "\n",
    "#x = display\n",
    "#y = decorator_func(x)\n",
    "#y()"
   ]
  },
  {
   "cell_type": "code",
   "execution_count": 46,
   "metadata": {},
   "outputs": [],
   "source": [
    "import math"
   ]
  },
  {
   "cell_type": "code",
   "execution_count": 49,
   "metadata": {},
   "outputs": [
    {
     "ename": "SyntaxError",
     "evalue": "positional argument follows keyword argument (<ipython-input-49-451b10c1f1a3>, line 4)",
     "output_type": "error",
     "traceback": [
      "\u001b[0;36m  File \u001b[0;32m\"<ipython-input-49-451b10c1f1a3>\"\u001b[0;36m, line \u001b[0;32m4\u001b[0m\n\u001b[0;31m    test(abc=100,1,2,3,4,5 )\u001b[0m\n\u001b[0m                ^\u001b[0m\n\u001b[0;31mSyntaxError\u001b[0m\u001b[0;31m:\u001b[0m positional argument follows keyword argument\n"
     ]
    }
   ],
   "source": [
    "def test(*args, **kwargs):\n",
    "    print(args, kwargs)\n",
    "    \n",
    "test(1,2,3,4,5, abc=100)\n"
   ]
  },
  {
   "cell_type": "code",
   "execution_count": 62,
   "metadata": {},
   "outputs": [
    {
     "name": "stdout",
     "output_type": "stream",
     "text": [
      "latest\n"
     ]
    }
   ],
   "source": [
    "display1()\n",
    "def display1():\n",
    "    print(\"Hi\")\n",
    "    \n",
    "def display1():\n",
    "    print(\"Hello\")\n",
    "def display1():\n",
    "    print(\"Hello1\")\n",
    "def display1():\n",
    "    print(\"latest\")\n",
    "\n"
   ]
  },
  {
   "cell_type": "code",
   "execution_count": 65,
   "metadata": {},
   "outputs": [
    {
     "name": "stdout",
     "output_type": "stream",
     "text": [
      "0\n"
     ]
    }
   ],
   "source": [
    "import math\n",
    "\n",
    "def decorate(func):  #3\n",
    "    def wrapper(*args, **kwargs): #6\n",
    "        if len(args) == 2: #7 True  False #\n",
    "            if args[1] != 0: # 8 \n",
    "                ret = func(*args, **kwargs) #9 #12\n",
    "                return ret  #13\n",
    "            else:     #\n",
    "                return 0\n",
    "        else:\n",
    "            return 0  #\n",
    "    return wrapper  #4\n",
    "\n",
    "@decorate\n",
    "@another_decorator\n",
    "@decoratorname#2  #5  #14\n",
    "def get_power(x,y):   #10\n",
    "    return math.pow(x,y)  #11\n",
    "\n",
    "x = get_power(4,0) #1  #15\n",
    "print(x) #16"
   ]
  },
  {
   "cell_type": "code",
   "execution_count": 66,
   "metadata": {},
   "outputs": [
    {
     "name": "stdout",
     "output_type": "stream",
     "text": [
      "120\n",
      "time taken to execute 0.0015859603881835938\n"
     ]
    }
   ],
   "source": [
    "import math  \n",
    "import time  \n",
    "\n",
    "def decor_fact(func):  \n",
    "    def wrapper(*args):  \n",
    "        start = time.time()  \n",
    "        func(*args)  \n",
    "        end = time.time()  \n",
    "        return end - start  \n",
    "    return wrapper  \n",
    " \n",
    "@decor_fact  \n",
    "def fact1(n):  \n",
    "    print(math.factorial(n))  \n",
    "    \n",
    "print(\"time taken to execute\",fact1(5))"
   ]
  },
  {
   "cell_type": "code",
   "execution_count": 67,
   "metadata": {},
   "outputs": [
    {
     "ename": "IndentationError",
     "evalue": "expected an indented block (<ipython-input-67-5b1d4e261f07>, line 5)",
     "output_type": "error",
     "traceback": [
      "\u001b[0;36m  File \u001b[0;32m\"<ipython-input-67-5b1d4e261f07>\"\u001b[0;36m, line \u001b[0;32m5\u001b[0m\n\u001b[0;31m    def wrapper(*args):\u001b[0m\n\u001b[0m      ^\u001b[0m\n\u001b[0;31mIndentationError\u001b[0m\u001b[0;31m:\u001b[0m expected an indented block\n"
     ]
    }
   ],
   "source": [
    "import time  \n",
    "import math  \n",
    " \n",
    "def decorate(func):  \n",
    "def wrapper(*args):  \n",
    "start = time.time()  \n",
    "ret = func(args)  \n",
    "stop = time.time()  \n",
    "seconds = stop - start  \n",
    "return seconds  \n",
    "return wrapper  \n",
    "@decorate  \n",
    "def fact(n):  \n",
    "print(math.factorial(n))  \n",
    " \n",
    "print(\"time elapsed\", fact(10))"
   ]
  },
  {
   "cell_type": "code",
   "execution_count": 69,
   "metadata": {},
   "outputs": [
    {
     "name": "stdout",
     "output_type": "stream",
     "text": [
      "value 120\n"
     ]
    }
   ],
   "source": [
    "import time  \n",
    "import math  \n",
    "def decor(func):  \n",
    "    def wrapper(*args):  \n",
    "        start =time.time()  \n",
    "        ret = func(*args)  \n",
    "        end =time.time() \n",
    "        \n",
    "        return ret\n",
    "    return wrapper  \n",
    "@decor  \n",
    "def fact(i): # factorial  \n",
    "    return math.factorial(i)\n",
    "    \n",
    "print(\"value\",fact(5))"
   ]
  },
  {
   "cell_type": "code",
   "execution_count": 70,
   "metadata": {},
   "outputs": [
    {
     "ename": "IndentationError",
     "evalue": "expected an indented block (<ipython-input-70-d19075a583a9>, line 6)",
     "output_type": "error",
     "traceback": [
      "\u001b[0;36m  File \u001b[0;32m\"<ipython-input-70-d19075a583a9>\"\u001b[0;36m, line \u001b[0;32m6\u001b[0m\n\u001b[0;31m    return math.factorial(n)\u001b[0m\n\u001b[0m         ^\u001b[0m\n\u001b[0;31mIndentationError\u001b[0m\u001b[0;31m:\u001b[0m expected an indented block\n"
     ]
    }
   ],
   "source": [
    "import time  \n",
    "import math \n",
    "\n",
    "@decorator  \n",
    "def fact(n):  \n",
    "return math.factorial(n)  \n",
    "\n",
    "def decorator(func):  \n",
    "def wrapper(*args, **kwargs):  \n",
    "starttime=time.time()  \n",
    "ret=func(*args, **kwargs)  \n",
    "endtime=time.time()  \n",
    "print(\"tatal time in execution :: {} seconds\".format(endtime-starttime))  \n",
    "return ret  \n",
    "return wrapper  \n",
    " \n",
    "print(fact(5))"
   ]
  },
  {
   "cell_type": "code",
   "execution_count": 71,
   "metadata": {},
   "outputs": [
    {
     "name": "stdout",
     "output_type": "stream",
     "text": [
      "93326215443944152681699238856266700490715968264381621468592963895217599993229915608941463976156518286253697920827223758251185210916864000000000000000000000000\n"
     ]
    },
    {
     "data": {
      "text/plain": [
       "9.608268737792969e-05"
      ]
     },
     "execution_count": 71,
     "metadata": {},
     "output_type": "execute_result"
    }
   ],
   "source": [
    "import time  \n",
    "import math  \n",
    "def decorate(func): #3  \n",
    "    def wrapper(*args): #6  \n",
    "        before=time.time()  \n",
    "        func(*args) #9 #12  \n",
    "        after=time.time()  \n",
    "        difference=after-before  \n",
    "        return difference #13  \n",
    "    return wrapper #4  \n",
    "@decorate  \n",
    "def get_fact(x):  \n",
    "    print(math.factorial(x))  \n",
    "\n",
    "get_fact(100) #1"
   ]
  },
  {
   "cell_type": "code",
   "execution_count": 73,
   "metadata": {},
   "outputs": [
    {
     "name": "stdout",
     "output_type": "stream",
     "text": [
      "0\n",
      "1\n",
      "1\n",
      "2\n",
      "3\n",
      "5\n",
      "8\n",
      "13\n",
      "21\n",
      "34\n",
      "55\n",
      "89\n",
      "144\n",
      "233\n",
      "377\n",
      "610\n",
      "987\n",
      "1597\n",
      "2584\n",
      "4181\n"
     ]
    },
    {
     "data": {
      "text/plain": [
       "0.00825643539428711"
      ]
     },
     "execution_count": 73,
     "metadata": {},
     "output_type": "execute_result"
    }
   ],
   "source": [
    "import time  \n",
    "def decorate(func):  \n",
    "    def wrapper(*args,**kwargs):  \n",
    "        start_time=time.time()  \n",
    "        func(*args,**kwargs)  \n",
    "        end_time=time.time()  \n",
    "        return end_time-start_time  \n",
    "    return wrapper \n",
    "\n",
    "@decorate\n",
    "@new_decorator\n",
    "def fib_g(n):  \n",
    "    a,b=0,1  \n",
    "    for i in range(n):  \n",
    "        print(a)  \n",
    "        a,b=b,a+b\n",
    "        \n",
    "fib_g(20)"
   ]
  },
  {
   "cell_type": "code",
   "execution_count": null,
   "metadata": {},
   "outputs": [],
   "source": []
  }
 ],
 "metadata": {
  "kernelspec": {
   "display_name": "Python 3",
   "language": "python",
   "name": "python3"
  },
  "language_info": {
   "codemirror_mode": {
    "name": "ipython",
    "version": 3
   },
   "file_extension": ".py",
   "mimetype": "text/x-python",
   "name": "python",
   "nbconvert_exporter": "python",
   "pygments_lexer": "ipython3",
   "version": "3.6.5"
  }
 },
 "nbformat": 4,
 "nbformat_minor": 2
}
