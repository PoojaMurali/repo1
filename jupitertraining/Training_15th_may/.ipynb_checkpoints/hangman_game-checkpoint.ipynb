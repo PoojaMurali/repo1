{
 "cells": [
  {
   "cell_type": "code",
   "execution_count": null,
   "metadata": {},
   "outputs": [],
   "source": [
    "import random\n",
    "\n",
    "words = ['rainbow', 'computer', 'science', 'programming',\n",
    "         'python', 'mathematics', 'player', 'condition',\n",
    "         'reverse', 'water', 'board', 'geeks']\n",
    "word = random.choice(words)\n",
    "\n",
    "print(\"Welcome to the Hangman Game\")\n",
    "\n",
    "guesses = ''\n",
    "\n",
    "tries = 12\n",
    "\n",
    "while tries > 0:\n",
    "    failed = True\n",
    "    for char in word:\n",
    "        if char in guesses:\n",
    "            print(char)\n",
    "        else:\n",
    "            print(\"_\")\n",
    "            failed = False\n",
    "            \n",
    "    if failed:\n",
    "        print(\"You win!\")\n",
    "        print(\"The word is \", word)\n",
    "        break\n",
    "        \n",
    "    guess = input(\"Enter the guess\")\n",
    "    guesses = guesses + guess\n",
    "        \n",
    "    if guess not in word:\n",
    "        tries -= 1\n",
    "        print(\"Wrong guess\")\n",
    "        print(\"You have {} more guesses\".format(tries))\n",
    "            \n",
    "        if tries == 0:\n",
    "            print(\"You Loose\")\n",
    "            print(\"The correct word is \", word)         "
   ]
  },
  {
   "cell_type": "code",
   "execution_count": null,
   "metadata": {},
   "outputs": [],
   "source": [
    "import random  \n",
    "choices=['board','python','start','computer','texture']  \n",
    "#choices=['abc']  \n",
    "rand_word=random.choice(choices)  \n",
    "length=len(rand_word)  \n",
    "word_guess=[]  \n",
    "for i in range(length):  \n",
    "    word_guess.append('_')  \n",
    "\n",
    "flag=False  \n",
    "no_of_guesses=12  \n",
    "while no_of_guesses>0:  \n",
    "    print(\"you have \", no_of_guesses ,\" chance left\")  \n",
    "    print(word_guess)  \n",
    "    n=input(\"Enter the character:\")  \n",
    "    if n not in rand_word:  \n",
    "        no_of_guesses-=1  \n",
    "    else:  \n",
    "        for j in range(length):  \n",
    "            if rand_word[j] == n:  \n",
    "                word_guess[j]=n  \n",
    "        if '_' not in word_guess:  \n",
    "            flag=True  \n",
    "            break  \n",
    "if flag==True:  \n",
    "    print(\"You won\")  \n",
    "else:  \n",
    "    print(\"You lose\")  \n",
    "print(\"The word is\",rand_word)"
   ]
  },
  {
   "cell_type": "code",
   "execution_count": null,
   "metadata": {},
   "outputs": [],
   "source": []
  }
 ],
 "metadata": {
  "kernelspec": {
   "display_name": "Python 3",
   "language": "python",
   "name": "python3"
  },
  "language_info": {
   "codemirror_mode": {
    "name": "ipython",
    "version": 3
   },
   "file_extension": ".py",
   "mimetype": "text/x-python",
   "name": "python",
   "nbconvert_exporter": "python",
   "pygments_lexer": "ipython3",
   "version": "3.6.5"
  }
 },
 "nbformat": 4,
 "nbformat_minor": 4
}
