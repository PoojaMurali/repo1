{
 "cells": [
  {
   "cell_type": "code",
   "execution_count": 6,
   "metadata": {},
   "outputs": [
    {
     "name": "stdout",
     "output_type": "stream",
     "text": [
      "Moti Barking \n",
      "Number of dogs 1\n"
     ]
    }
   ],
   "source": [
    "class Dog:\n",
    "    count = 0\n",
    "    def __init__(self,name, abc):\n",
    "        self.name = name\n",
    "        self.abc = abc\n",
    "        Dog.count += 1\n",
    "        \n",
    "    def make_sound(self):\n",
    "        print(\"{} Barking \".format(self.name))\n",
    "        print(\"Number of dogs {}\".format(Dog.count))\n",
    "        \n",
    "d = Dog(\"Moti\", 10)\n",
    "d.make_sound()    "
   ]
  },
  {
   "cell_type": "code",
   "execution_count": 7,
   "metadata": {},
   "outputs": [
    {
     "name": "stdout",
     "output_type": "stream",
     "text": [
      "Brownee Barking \n",
      "Number of dogs 2\n"
     ]
    }
   ],
   "source": [
    "d1 = Dog(\"Brownee\", 20)\n",
    "d1.make_sound()"
   ]
  },
  {
   "cell_type": "code",
   "execution_count": 9,
   "metadata": {},
   "outputs": [
    {
     "name": "stdout",
     "output_type": "stream",
     "text": [
      "Tommy Barking \n",
      "Number of dogs 4\n"
     ]
    }
   ],
   "source": [
    "d2 = Dog(\"Tommy\", 30)\n",
    "d2.make_sound()\n",
    "Dog.count = 0"
   ]
  },
  {
   "cell_type": "code",
   "execution_count": 12,
   "metadata": {},
   "outputs": [
    {
     "name": "stdout",
     "output_type": "stream",
     "text": [
      "Sara Barking \n",
      "Number of dogs 1\n"
     ]
    }
   ],
   "source": [
    "Dog.count = 0\n",
    "d3 = Dog(\"Sara\", 40)\n",
    "d3.make_sound()"
   ]
  },
  {
   "cell_type": "code",
   "execution_count": 14,
   "metadata": {},
   "outputs": [
    {
     "name": "stdout",
     "output_type": "stream",
     "text": [
      "7th teju\n"
     ]
    }
   ],
   "source": [
    "class student:  \n",
    "    def __init__(self,name):  \n",
    "        self.name = name  \n",
    "    def make_class(self):  \n",
    "        print(\"7th {}\".format(self.name))  \n",
    " \n",
    "d = student(\"teju\")  \n",
    "d.make_class()"
   ]
  },
  {
   "cell_type": "code",
   "execution_count": 15,
   "metadata": {},
   "outputs": [
    {
     "name": "stdout",
     "output_type": "stream",
     "text": [
      " student name is gaurav and roll number 10\n",
      " student couse name is cs and marks is 0\n",
      "number of student 1\n"
     ]
    }
   ],
   "source": [
    "class student:  \n",
    "    count=0  \n",
    "    def __init__(self, name, course,roll_n):  \n",
    "        self.name=name  \n",
    "        self.course=course  \n",
    "        self.roll=roll_n  \n",
    "        student.count+=1  \n",
    "\n",
    "    def get_marks(self):  \n",
    "        m=int(input(\" please enter the marks\"))  \n",
    "        print(\" student name is {} and roll number {}\".format(self.name, self.roll))  \n",
    "        print(\" student couse name is {} and marks is {}\".format(self.course, m))  \n",
    "        print(\"number of student {}\".format(student.count))  \n",
    " \n",
    "d=student(\"gaurav\", \"cs\",10)  \n",
    "d.get_marks()"
   ]
  },
  {
   "cell_type": "code",
   "execution_count": 16,
   "metadata": {},
   "outputs": [
    {
     "name": "stdout",
     "output_type": "stream",
     "text": [
      "Poonam Roll number is 20 and he got 50 marks and total no of students are 1\n"
     ]
    }
   ],
   "source": [
    "class Student:  \n",
    "    count = 0  \n",
    "    def __init__(self,student_name, Roll_No, Marks):  \n",
    "        self.student_name = student_name  \n",
    "        self.Roll_No = Roll_No  \n",
    "        self.Marks = Marks  \n",
    "        student.count+=1  \n",
    "    def display(self):  \n",
    "        print(\"{} Roll number is {} and he got {} marks and total no of students are {}\".format(self.student_name, self.Roll_No, self.Marks, self.count))  \n",
    "\n",
    "s = Student(\"Poonam\",20 ,50)  \n",
    "s.display()"
   ]
  },
  {
   "cell_type": "code",
   "execution_count": 17,
   "metadata": {},
   "outputs": [
    {
     "name": "stdout",
     "output_type": "stream",
     "text": [
      "abc Roll number is 220 and he got 520 marks and total no of students are 1\n"
     ]
    }
   ],
   "source": [
    "s = Student(\"abc\",220 ,520)  \n",
    "s.display()"
   ]
  },
  {
   "cell_type": "code",
   "execution_count": 20,
   "metadata": {},
   "outputs": [
    {
     "name": "stdout",
     "output_type": "stream",
     "text": [
      "Anubha from section 5 got 99 marks\n",
      "number of students: 1\n"
     ]
    }
   ],
   "source": [
    "#name, student , class marks : get and display method  \n",
    "#count  \n",
    "class student():  \n",
    "    count = 0  \n",
    "    def __init__(self, name, section, marks, roll_no):  \n",
    "        self.name = name  \n",
    "        self.section = section  \n",
    "        self.marks = marks  \n",
    "        self.roll = roll_no  \n",
    "        student.count += 1  \n",
    "    def display(self):  \n",
    "        print(\"{} from section {} got {} marks\".format(self.name, self.section, self.marks))  \n",
    "        print(\"number of students: {}\".format(student.count))  \n",
    "s1 = student(\"Anubha\", 5, 99, 20)  \n",
    "s1.display()"
   ]
  },
  {
   "cell_type": "code",
   "execution_count": 21,
   "metadata": {},
   "outputs": [
    {
     "name": "stdout",
     "output_type": "stream",
     "text": [
      "Rajendra from section 5 got 99 marks\n",
      "number of students: 2\n"
     ]
    }
   ],
   "source": [
    "s1 = student(\"Rajendra\", 5, 99, 20)  \n",
    "s1.display()"
   ]
  },
  {
   "cell_type": "code",
   "execution_count": 23,
   "metadata": {},
   "outputs": [
    {
     "name": "stdout",
     "output_type": "stream",
     "text": [
      "MBA teju\n",
      "number of students 1\n"
     ]
    }
   ],
   "source": [
    "\n",
    "class student:  \n",
    "    count = 0  \n",
    "    def __init__(self,studname,roll):  \n",
    "        self.studname = studname  \n",
    "        self.roll = roll  \n",
    "        student.count +=1  \n",
    "    def get_course(self):  \n",
    "        print(\"MBA {}\".format(self.studname))  \n",
    "        print(\"number of students {}\".format(student.count))  \n",
    "    def get_marks(self):  \n",
    "        a=int(input(\"please enter the marks\"))  \n",
    "        print(\"marks {}\".format(self.marks))  \n",
    "\n",
    "d = student(\"teju\", 100)  \n",
    "d.get_course()  "
   ]
  },
  {
   "cell_type": "code",
   "execution_count": 24,
   "metadata": {},
   "outputs": [
    {
     "name": "stdout",
     "output_type": "stream",
     "text": [
      "Ceema score 100 in AI\n"
     ]
    }
   ],
   "source": [
    "class student:  \n",
    "    count = 0  \n",
    "    def __init__(self,name,rollno,crs):  \n",
    "        self.name = name  \n",
    "        self.rollno = rollno  \n",
    "        self.course = crs  \n",
    "        student.count +=1\n",
    "    def get_marks(self):  \n",
    "        self.mark = int(input('Enter marks'))  \n",
    "    def display_marks(self):  \n",
    "        print('{} score {} in {}'.format(self.name,self.mark,self.course))  \n",
    "          \n",
    "s=student('Ceema','A001','AI')  \n",
    "s.get_marks()  \n",
    "s.display_marks()"
   ]
  },
  {
   "cell_type": "code",
   "execution_count": 25,
   "metadata": {},
   "outputs": [
    {
     "name": "stdout",
     "output_type": "stream",
     "text": [
      "Rajendra score 200 in BI\n"
     ]
    }
   ],
   "source": [
    "s=student('Rajendra','A002','BI')  \n",
    "s.get_marks()  \n",
    "s.display_marks()"
   ]
  },
  {
   "cell_type": "code",
   "execution_count": 26,
   "metadata": {},
   "outputs": [
    {
     "name": "stdout",
     "output_type": "stream",
     "text": [
      "Kranti score 300 in BI\n"
     ]
    }
   ],
   "source": [
    "s1=student('Kranti','A003','BI')  \n",
    "s1.get_marks()  \n",
    "s1.display_marks()"
   ]
  },
  {
   "cell_type": "code",
   "execution_count": 28,
   "metadata": {},
   "outputs": [
    {
     "name": "stdout",
     "output_type": "stream",
     "text": [
      " student name is gaurav and roll number 10\n",
      " couse name is cs and marks is 2\n",
      "number of student 1\n"
     ]
    }
   ],
   "source": [
    "class student:  \n",
    "    count=0  \n",
    "    def __init__(self, name, course,roll_n):  \n",
    "        self.name=name  \n",
    "        self.course=course  \n",
    "        self.roll=roll_n  \n",
    "        student.count+=1  \n",
    "\n",
    "    def get_marks():  \n",
    "        m=int(input(\" please enter the marks\"))  \n",
    "        return m  \n",
    "\n",
    "\n",
    "    def display(self):  \n",
    "        m=student.get_marks()  \n",
    "        print(\" student name is {} and roll number {}\".format(self.name, self.roll))  \n",
    "        print(\" couse name is {} and marks is {}\".format(self.course,m ))  \n",
    "        print(\"number of student {}\".format(student.count))  \n",
    " \n",
    "d=student(\"gaurav\",\"cs\",10)  \n",
    "d.display()"
   ]
  },
  {
   "cell_type": "code",
   "execution_count": 29,
   "metadata": {},
   "outputs": [
    {
     "name": "stdout",
     "output_type": "stream",
     "text": [
      "name Pooja\n",
      "course Compsci\n",
      "rollno 10\n",
      "marks1 100\n",
      "marks2 200\n",
      "Count 1\n"
     ]
    }
   ],
   "source": [
    "class Student:  \n",
    "    count=0  \n",
    "    def __init__(self,name,course,rollno):  \n",
    "        self.name=name  \n",
    "        self.course=course  \n",
    "        self.rollno=rollno  \n",
    "        Student.count+=1  \n",
    "    def get_marks(self):  \n",
    "        self.m1=int(input(\"enter the marks1:\"))  \n",
    "        self.m2=int(input(\"enter the marks2:\"))  \n",
    "\n",
    "    def put_marks(self):  \n",
    "        print(\"name\",self.name)  \n",
    "        print(\"course\",self.course)  \n",
    "        print(\"rollno\",self.rollno)  \n",
    "        print(\"marks1\",self.m1)  \n",
    "        print(\"marks2\",self.m2)  \n",
    "        print(\"Count\",Student.count)  \n",
    "\n",
    "classobj=Student(\"Pooja\",\"Compsci\",10)  \n",
    "classobj.get_marks()  \n",
    "classobj.put_marks()"
   ]
  },
  {
   "cell_type": "code",
   "execution_count": 30,
   "metadata": {},
   "outputs": [
    {
     "name": "stdout",
     "output_type": "stream",
     "text": [
      "name Raj\n",
      "course Compsci\n",
      "rollno 10\n",
      "marks1 10\n",
      "marks2 20\n",
      "Count 2\n"
     ]
    }
   ],
   "source": [
    "classobj=Student(\"Raj\",\"Compsci\",10)  \n",
    "classobj.get_marks()  \n",
    "classobj.put_marks()"
   ]
  },
  {
   "cell_type": "code",
   "execution_count": 31,
   "metadata": {},
   "outputs": [
    {
     "name": "stdout",
     "output_type": "stream",
     "text": [
      "Name of Student:  a\n",
      "Student Roll Number:  1\n",
      "Marks in English: 11 and marks in Maths : 11\n"
     ]
    }
   ],
   "source": [
    "class Student:  \n",
    "    def __init__(self):  \n",
    "        self.name = input(\"Enter name: \")  \n",
    "        self.rollno = input(\"Enter Roll Number: \")  \n",
    "        self.marks_english = input(\"Enter marks in English: \")  \n",
    "        self.marks_maths = input(\"Enter marks in Maths: \")  \n",
    "    def display(self):  \n",
    "        print(\"Name of Student: \", self.name)  \n",
    "        print(\"Student Roll Number: \", self.rollno)  \n",
    "        print(\"Marks in English: {} and marks in Maths : {}\".format(self.marks_english , self.marks_maths))\n",
    "        \n",
    "\n",
    "d = Student()  \n",
    "d.display()"
   ]
  },
  {
   "cell_type": "code",
   "execution_count": 35,
   "metadata": {},
   "outputs": [],
   "source": [
    "class Students:  \n",
    "    count=0  \n",
    "    def __init__(self,name,roll_no,course_name):  \n",
    "        self.name=name  \n",
    "        self.roll_no=roll_no  \n",
    "        self.course_name=course_name  \n",
    "        Students.count+=1  \n",
    "\n",
    "    def get_marks(self):  \n",
    "        self.marks=int(input(\"Enter the marks:\"))  \n",
    "        print(\"{} marks \".format(self.marks))  \n",
    "\n",
    "    def display_marks(self):  \n",
    "        print(\"student name is {}, Roll_number is {}, course name is {} and Marks {}\" \\\n",
    "          .format(self.name,self.roll_no,self.course_name,self.marks))   "
   ]
  },
  {
   "cell_type": "code",
   "execution_count": 36,
   "metadata": {},
   "outputs": [],
   "source": [
    "s = Students(\"Raj\", 1, \"CS\")"
   ]
  },
  {
   "cell_type": "code",
   "execution_count": 37,
   "metadata": {},
   "outputs": [
    {
     "name": "stdout",
     "output_type": "stream",
     "text": [
      "100 marks \n"
     ]
    }
   ],
   "source": [
    "s.get_marks()"
   ]
  },
  {
   "cell_type": "code",
   "execution_count": 38,
   "metadata": {},
   "outputs": [
    {
     "name": "stdout",
     "output_type": "stream",
     "text": [
      "student name is Raj, Roll_number is 1, course name is CS and Marks 100\n"
     ]
    }
   ],
   "source": [
    "s.display_marks()"
   ]
  },
  {
   "cell_type": "code",
   "execution_count": 39,
   "metadata": {},
   "outputs": [
    {
     "name": "stdout",
     "output_type": "stream",
     "text": [
      "Studentname Asmita\n",
      "Roll No 1\n",
      "Course Maths\n",
      "Marks 100\n",
      "Number of Students 1\n",
      "Studentname Shaily\n",
      "Roll No 2\n",
      "Course CS\n",
      "Marks 200\n",
      "Number of Students 2\n",
      "Studentname Severina\n",
      "Roll No 3\n",
      "Course Science\n",
      "Marks 300\n",
      "Number of Students 3\n"
     ]
    }
   ],
   "source": [
    "class Student:  \n",
    "    count=0  \n",
    "\n",
    "    def __init__(self, name, roll, course):  \n",
    "        self.name = name  \n",
    "        self.roll= roll  \n",
    "        self.course= course  \n",
    "        self.marks=0  \n",
    "        Student.count+=1  \n",
    "\n",
    "    def getmarks(self):  \n",
    "        self.marks=input(\"Enter the marks for {}\".format(self.name))  \n",
    "\n",
    "    def displaymarks(self):  \n",
    "        print(\"Studentname\", self.name)  \n",
    "        print(\"Roll No\", self.roll)  \n",
    "        print(\"Course\", self.course)  \n",
    "        print(\"Marks\", self.marks)  \n",
    "        print(\"Number of Students {}\".format(Student.count))  \n",
    " \n",
    "s= Student(\"Asmita\", \"1\", \"Maths\")  \n",
    "s.getmarks()  \n",
    "s.displaymarks()  \n",
    "s1= Student(\"Shaily\", \"2\", \"CS\")  \n",
    "s1.getmarks()  \n",
    "s1.displaymarks()  \n",
    "s2= Student(\"Severina\", \"3\", \"Science\")  \n",
    "s2.getmarks()  \n",
    "s2.displaymarks()"
   ]
  },
  {
   "cell_type": "code",
   "execution_count": 41,
   "metadata": {},
   "outputs": [
    {
     "name": "stdout",
     "output_type": "stream",
     "text": [
      "Totalcount of sudents: 1\n",
      "Name harry\n",
      "roll no: 12\n",
      "Course CS\n",
      "Marks: [100, 200]\n"
     ]
    }
   ],
   "source": [
    "class student:  \n",
    "    count=0  \n",
    "    def __init__(self,name,rollno,course, marks):  \n",
    "        self.name=name  \n",
    "        self.rollno=rollno  \n",
    "        self.marks=marks  \n",
    "        self.course=course  \n",
    "        student.count+=1  \n",
    "    def getmarks(self):  \n",
    "        self.marks=(input(\"Enter the marks separated by spaces:\")).split()  \n",
    "        for i in range(len(self.marks)):  \n",
    "            self.marks[i]=int(self.marks[i])  \n",
    "    def display(self):  \n",
    "        print(\"Totalcount of sudents:\",student.count)  \n",
    "        print(\"Name\",self.name)  \n",
    "        print(\"roll no:\",self.rollno)  \n",
    "        print(\"Course\",self.course)  \n",
    "        print(\"Marks:\",self.marks)  \n",
    "\n",
    "s1=student('harry',12,'CS', 100)  \n",
    "s1.getmarks()  \n",
    "s1.display()  "
   ]
  },
  {
   "cell_type": "code",
   "execution_count": 43,
   "metadata": {},
   "outputs": [
    {
     "ename": "TypeError",
     "evalue": "__init__() missing 2 required positional arguments: 'marks' and 'roll_no'",
     "output_type": "error",
     "traceback": [
      "\u001b[0;31m---------------------------------------------------------------------------\u001b[0m",
      "\u001b[0;31mTypeError\u001b[0m                                 Traceback (most recent call last)",
      "\u001b[0;32m<ipython-input-43-5b883a4f1b48>\u001b[0m in \u001b[0;36m<module>\u001b[0;34m()\u001b[0m\n\u001b[1;32m     18\u001b[0m \u001b[0;34m\u001b[0m\u001b[0m\n\u001b[1;32m     19\u001b[0m \u001b[0;34m\u001b[0m\u001b[0m\n\u001b[0;32m---> 20\u001b[0;31m \u001b[0ms1\u001b[0m \u001b[0;34m=\u001b[0m \u001b[0mstudent\u001b[0m\u001b[0;34m(\u001b[0m\u001b[0;34m\"Anubha\"\u001b[0m\u001b[0;34m,\u001b[0m \u001b[0;36m5\u001b[0m\u001b[0;34m)\u001b[0m\u001b[0;34m\u001b[0m\u001b[0m\n\u001b[0m\u001b[1;32m     21\u001b[0m \u001b[0ms1\u001b[0m\u001b[0;34m.\u001b[0m\u001b[0mdisplay\u001b[0m\u001b[0;34m(\u001b[0m\u001b[0;34m)\u001b[0m\u001b[0;34m\u001b[0m\u001b[0m\n",
      "\u001b[0;31mTypeError\u001b[0m: __init__() missing 2 required positional arguments: 'marks' and 'roll_no'"
     ]
    }
   ],
   "source": [
    "class student():  \n",
    "    count = 0  \n",
    "    def __init__(self, name, marks):  \n",
    "        self.name = name  \n",
    "        self.marks = marks  \n",
    "    def __init__(self, name, section):  \n",
    "        self.name = name  \n",
    "        self.section = section  \n",
    "    def __init__(self, name, section, marks, roll_no): #multiple _init methods if wehave in a program then the last one will be utilized only and called  \n",
    "        self.name = name  \n",
    "        self.section = section  \n",
    "        self.marks = marks  \n",
    "        self.roll = roll_no  \n",
    "        student.count += 1  \n",
    "    def display(self):  \n",
    "        print(\"{} from section {} and roll number {} got {} marks\".format(self.name, self.section, self.roll,self.marks))  \n",
    "        print(\"number of students: {}\".format(student.count))  \n",
    "        \n",
    "        \n",
    "s1 = student(\"Anubha\", 5)  \n",
    "s1.display()"
   ]
  },
  {
   "cell_type": "code",
   "execution_count": null,
   "metadata": {},
   "outputs": [],
   "source": []
  }
 ],
 "metadata": {
  "kernelspec": {
   "display_name": "Python 3",
   "language": "python",
   "name": "python3"
  },
  "language_info": {
   "codemirror_mode": {
    "name": "ipython",
    "version": 3
   },
   "file_extension": ".py",
   "mimetype": "text/x-python",
   "name": "python",
   "nbconvert_exporter": "python",
   "pygments_lexer": "ipython3",
   "version": "3.6.5"
  }
 },
 "nbformat": 4,
 "nbformat_minor": 2
}
