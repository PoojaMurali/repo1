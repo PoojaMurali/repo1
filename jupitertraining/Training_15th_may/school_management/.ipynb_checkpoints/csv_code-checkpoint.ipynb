{
 "cells": [
  {
   "cell_type": "code",
   "execution_count": 2,
   "metadata": {},
   "outputs": [
    {
     "name": "stdout",
     "output_type": "stream",
     "text": [
      "['rajendrait99@gmail.com', 'Rajendra Kharat', 'raj']\n",
      "['rahul@gmail.com', 'Rahul Bose', 'rahul']\n",
      "['ira@gmail.com', 'Ira Khan', 'ira']\n",
      "['ganesh@gmail.com', 'Ganesh bhure', 'ganesh']\n",
      "['kiran@gmail.com', 'Kiran J', 'kiran']\n",
      "['jyoti@gmail.com', 'Jyoti K', 'jyoti']\n"
     ]
    }
   ],
   "source": [
    "import csv\n",
    "with open(\"students.csv\") as fd:\n",
    "    obj = csv.reader(fd)\n",
    "    for i in obj:\n",
    "        print(i)\n",
    "        \n",
    "        \n",
    "        \n",
    "with open(\"students.csv\") as fd:\n",
    "    obj = csv.writer(fd)\n",
    "    obj.writerow(data)\n",
    "    "
   ]
  },
  {
   "cell_type": "code",
   "execution_count": null,
   "metadata": {},
   "outputs": [],
   "source": []
  }
 ],
 "metadata": {
  "kernelspec": {
   "display_name": "Python 3",
   "language": "python",
   "name": "python3"
  },
  "language_info": {
   "codemirror_mode": {
    "name": "ipython",
    "version": 3
   },
   "file_extension": ".py",
   "mimetype": "text/x-python",
   "name": "python",
   "nbconvert_exporter": "python",
   "pygments_lexer": "ipython3",
   "version": "3.6.5"
  }
 },
 "nbformat": 4,
 "nbformat_minor": 2
}
